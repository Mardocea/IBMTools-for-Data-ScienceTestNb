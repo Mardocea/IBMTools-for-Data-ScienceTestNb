{
 "cells": [
  {
   "cell_type": "markdown",
   "metadata": {},
   "source": [
    "# Data Science Tools and Ecosystem"
   ]
  },
  {
   "cell_type": "markdown",
   "metadata": {},
   "source": [
    "In this notebook, Data Science Tools and Ecosystem are summarized."
   ]
  },
  {
   "cell_type": "markdown",
   "metadata": {},
   "source": [
    "### Some of the popular languages that Data Scientists use are:\n",
    "1. Python\n",
    "2. R\n",
    "3. Julia\n",
    "4. Java\n",
    "5. Scala"
   ]
  },
  {
   "cell_type": "markdown",
   "metadata": {},
   "source": [
    "### Some of the commonly used libraries used by Data Scientists include:\n",
    "1. Pandas (Data analysis and manipulation)\n",
    "2. Seaborn (Data visualization)\n",
    "3. Matplotlib (Data visualization)\n",
    "4. Numpy (Matrices and Vectors)\n",
    "5. Scikit-learn (Machine learning)"
   ]
  },
  {
   "cell_type": "markdown",
   "metadata": {},
   "source": [
    "|**Data Science Tools**|\n",
    "--------------------\n",
    "|Apache Hadoop (distributed data processing of large data sets)|\n",
    "|Jupyter Notebook (combines live code, equations, narrative text and visualizations)|\n",
    "|Visual Studio Code (code editor)|\n",
    "|Anaconda  (create environments for many different versions of Python)|"
   ]
  },
  {
   "cell_type": "markdown",
   "metadata": {},
   "source": [
    "### Below are a few examples of evaluating arithmetic expressions in Python\n",
    "---------------------------------------------------------------------------\n"
   ]
  },
  {
   "cell_type": "code",
   "execution_count": 8,
   "metadata": {},
   "outputs": [
    {
     "data": {
      "text/plain": [
       "17"
      ]
     },
     "execution_count": 8,
     "metadata": {},
     "output_type": "execute_result"
    }
   ],
   "source": [
    "#This a simple arithmetic expression to mutiply then add integers\n",
    "(3*4)+5"
   ]
  },
  {
   "cell_type": "code",
   "execution_count": 24,
   "metadata": {},
   "outputs": [
    {
     "name": "stdout",
     "output_type": "stream",
     "text": [
      "200 minutes equals: 3 hours and 20.00 minutes\n"
     ]
    }
   ],
   "source": [
    "#This will convert 200 minutes to hours and minutes\n",
    "def ConvertToHoursAndMinutes(minutes):\n",
    "    hours = minutes/60.0\n",
    "    # Modulo 1 returns only the numbers after the '.' (fractional part)\n",
    "    minutes = (hours % 1) * 60\n",
    "    # return hour and minute tuple (cast hours as int so there are no decimal places)\n",
    "    return (int(hours), minutes)\n",
    "\n",
    "minutesToConvert = 200\n",
    "\n",
    "result = ConvertToHoursAndMinutes(minutesToConvert)\n",
    "print(f\"{minutesToConvert} minutes equals: {result[0]} hours and {result[1]:.2f} minutes\")\n"
   ]
  },
  {
   "cell_type": "code",
   "execution_count": null,
   "metadata": {},
   "outputs": [],
   "source": []
  }
 ],
 "metadata": {
  "kernelspec": {
   "display_name": "IBMCourseExercises",
   "language": "python",
   "name": "python3"
  },
  "language_info": {
   "codemirror_mode": {
    "name": "ipython",
    "version": 3
   },
   "file_extension": ".py",
   "mimetype": "text/x-python",
   "name": "python",
   "nbconvert_exporter": "python",
   "pygments_lexer": "ipython3",
   "version": "3.11.5"
  }
 },
 "nbformat": 4,
 "nbformat_minor": 2
}
